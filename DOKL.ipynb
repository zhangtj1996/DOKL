{
 "cells": [
  {
   "cell_type": "code",
   "execution_count": 1,
   "metadata": {},
   "outputs": [],
   "source": [
    "import time\n",
    "\n",
    "import torch\n",
    "import torch.nn as nn\n",
    "import torch.nn.functional as F\n",
    "from torchvision import transforms\n",
    "\n",
    "import pyro\n",
    "import pyro.contrib.gp as gp\n",
    "import pyro.infer as infer\n",
    "from pyro.contrib.examples.util import get_data_loader, get_data_directory\n",
    "\n",
    "\n",
    "class ReluNN(nn.Module):\n",
    "    def __init__(self):\n",
    "        super().__init__()\n",
    "        self.fc1 = nn.Linear(10, 400)\n",
    "        self.fc2 = nn.Linear(400, 100)\n",
    "        self.fc3 = nn.Linear(100, 1)\n",
    "\n",
    "    def forward(self, x):\n",
    "        x = F.relu(self.fc1(x))\n",
    "        x = F.relu(self.fc2(x))\n",
    "        x = self.fc3(x)\n",
    "        return x\n",
    "relunn = ReluNN()\n",
    "\n",
    "# Create deep kernel by warping RBF with CNN.\n",
    "# CNN will transform a high dimension image into a low dimension 2D tensors for RBF kernel.\n",
    "# This kernel accepts inputs are inputs of CNN and gives outputs are covariance matrix of RBF\n",
    "# on outputs of CNN.\n",
    "dotproduct = gp.kernels.Linear(input_dim=1)\n",
    "deep_kernel = gp.kernels.Warping(dotproduct, iwarping_fn=relunn)"
   ]
  },
  {
   "cell_type": "code",
   "execution_count": 2,
   "metadata": {},
   "outputs": [],
   "source": [
    "p=10\n",
    "X=torch.rand(2000,p)*2-1\n",
    "y=X[:,0]*X[:,1]+2**(X[:,2]+X[:,4]+X[:,5])+2**(X[:,2]+X[:,3]+X[:,4]+X[:,6])+torch.sin(X[:,6]*torch.sin(X[:,7]+X[:,8]))+torch.arccos(0.9*X[:,9])\n",
    "y=y+torch.randn(2000)"
   ]
  },
  {
   "cell_type": "code",
   "execution_count": 3,
   "metadata": {},
   "outputs": [
    {
     "name": "stdout",
     "output_type": "stream",
     "text": [
      "epoch: 0 train loss: tensor(108493.5078, grad_fn=<AddBackward0>) time: 2.4269752502441406\n",
      "epoch: 30 train loss: tensor(11834.5332, grad_fn=<AddBackward0>) time: 6.579121351242065\n",
      "epoch: 60 train loss: tensor(8948.9834, grad_fn=<AddBackward0>) time: 10.491810083389282\n",
      "epoch: 90 train loss: tensor(7761.0576, grad_fn=<AddBackward0>) time: 14.406564950942993\n",
      "epoch: 120 train loss: tensor(6853.4482, grad_fn=<AddBackward0>) time: 18.15857696533203\n",
      "epoch: 150 train loss: tensor(6021.7070, grad_fn=<AddBackward0>) time: 21.938365936279297\n",
      "epoch: 180 train loss: tensor(5209.4766, grad_fn=<AddBackward0>) time: 25.90791130065918\n",
      "epoch: 210 train loss: tensor(4405.1416, grad_fn=<AddBackward0>) time: 30.09409737586975\n",
      "epoch: 240 train loss: tensor(3628.9351, grad_fn=<AddBackward0>) time: 34.09161567687988\n",
      "epoch: 270 train loss: tensor(2941.1582, grad_fn=<AddBackward0>) time: 38.19806742668152\n",
      "epoch: 300 train loss: tensor(2365.8740, grad_fn=<AddBackward0>) time: 42.12963533401489\n",
      "epoch: 330 train loss: tensor(2038.7740, grad_fn=<AddBackward0>) time: 46.05309224128723\n",
      "epoch: 360 train loss: tensor(1768.0872, grad_fn=<AddBackward0>) time: 50.005961656570435\n",
      "epoch: 390 train loss: tensor(1381.6378, grad_fn=<AddBackward0>) time: 54.10134243965149\n",
      "epoch: 420 train loss: tensor(1300.1786, grad_fn=<AddBackward0>) time: 58.13993859291077\n",
      "epoch: 450 train loss: tensor(1019.0327, grad_fn=<AddBackward0>) time: 61.97220015525818\n",
      "epoch: 480 train loss: tensor(867.7222, grad_fn=<AddBackward0>) time: 65.98685717582703\n",
      "epoch: 510 train loss: tensor(857.4023, grad_fn=<AddBackward0>) time: 69.9705855846405\n",
      "epoch: 540 train loss: tensor(955.7659, grad_fn=<AddBackward0>) time: 73.90706276893616\n",
      "epoch: 570 train loss: tensor(656.1205, grad_fn=<AddBackward0>) time: 78.03390097618103\n",
      "epoch: 600 train loss: tensor(541.6097, grad_fn=<AddBackward0>) time: 81.72226738929749\n",
      "epoch: 630 train loss: tensor(562.6051, grad_fn=<AddBackward0>) time: 85.57419204711914\n",
      "epoch: 660 train loss: tensor(497.1682, grad_fn=<AddBackward0>) time: 89.82995533943176\n",
      "epoch: 690 train loss: tensor(521.1685, grad_fn=<AddBackward0>) time: 93.88060665130615\n",
      "epoch: 720 train loss: tensor(370.9927, grad_fn=<AddBackward0>) time: 97.9027795791626\n",
      "epoch: 750 train loss: tensor(254.8285, grad_fn=<AddBackward0>) time: 102.47698521614075\n",
      "epoch: 780 train loss: tensor(255.7539, grad_fn=<AddBackward0>) time: 106.37183713912964\n",
      "epoch: 810 train loss: tensor(259.9360, grad_fn=<AddBackward0>) time: 110.2882673740387\n",
      "epoch: 840 train loss: tensor(166.3315, grad_fn=<AddBackward0>) time: 114.34876036643982\n",
      "epoch: 870 train loss: tensor(668.6990, grad_fn=<AddBackward0>) time: 118.24715876579285\n",
      "epoch: 900 train loss: tensor(121.0980, grad_fn=<AddBackward0>) time: 122.22845721244812\n",
      "epoch: 930 train loss: tensor(27.1218, grad_fn=<AddBackward0>) time: 126.0396556854248\n",
      "epoch: 960 train loss: tensor(103.5985, grad_fn=<AddBackward0>) time: 130.45806121826172\n",
      "epoch: 990 train loss: tensor(48.2102, grad_fn=<AddBackward0>) time: 134.53214359283447\n",
      "epoch: 1020 train loss: tensor(556.9043, grad_fn=<AddBackward0>) time: 138.5544514656067\n",
      "epoch: 1050 train loss: tensor(75.6968, grad_fn=<AddBackward0>) time: 142.64049553871155\n",
      "epoch: 1080 train loss: tensor(569.9883, grad_fn=<AddBackward0>) time: 146.6135904788971\n",
      "epoch: 1110 train loss: tensor(-78.1794, grad_fn=<AddBackward0>) time: 150.58468866348267\n",
      "epoch: 1140 train loss: tensor(116.2712, grad_fn=<AddBackward0>) time: 154.54670596122742\n",
      "epoch: 1170 train loss: tensor(-123.3940, grad_fn=<AddBackward0>) time: 158.52153849601746\n",
      "epoch: 1200 train loss: tensor(741.0286, grad_fn=<AddBackward0>) time: 162.57954096794128\n",
      "epoch: 1230 train loss: tensor(77.6816, grad_fn=<AddBackward0>) time: 166.49060225486755\n",
      "epoch: 1260 train loss: tensor(-277.2750, grad_fn=<AddBackward0>) time: 170.6951243877411\n",
      "epoch: 1290 train loss: tensor(253.1775, grad_fn=<AddBackward0>) time: 175.0788435935974\n",
      "epoch: 1320 train loss: tensor(-2.9421, grad_fn=<AddBackward0>) time: 179.11357498168945\n",
      "epoch: 1350 train loss: tensor(-240.2566, grad_fn=<AddBackward0>) time: 183.1689314842224\n",
      "epoch: 1380 train loss: tensor(-65.1057, grad_fn=<AddBackward0>) time: 187.3002336025238\n",
      "epoch: 1410 train loss: tensor(-338.3481, grad_fn=<AddBackward0>) time: 191.105633020401\n",
      "epoch: 1440 train loss: tensor(-279.1060, grad_fn=<AddBackward0>) time: 195.08858108520508\n",
      "epoch: 1470 train loss: tensor(-203.7727, grad_fn=<AddBackward0>) time: 199.2438440322876\n"
     ]
    }
   ],
   "source": [
    "gpr = gp.models.GPRegression(X, y, deep_kernel, noise=torch.tensor(0.1),jitter=1.0e-5)\n",
    "\n",
    "optimizer = torch.optim.Adam(gpr.parameters(), lr=0.005)\n",
    "loss_fn = pyro.infer.Trace_ELBO().differentiable_loss\n",
    "losses = []\n",
    "num_steps = 1500 \n",
    "\n",
    "start=time.time()\n",
    "for i in range(num_steps):\n",
    "    optimizer.zero_grad()\n",
    "    loss = loss_fn(gpr.model, gpr.guide)\n",
    "    loss.backward()\n",
    "    optimizer.step()\n",
    "    losses.append(loss.item())\n",
    "    if i%30==0:\n",
    "        print(\"epoch:\",i,\"train loss:\",loss,\"time:\" ,time.time()-start)"
   ]
  },
  {
   "cell_type": "code",
   "execution_count": 4,
   "metadata": {},
   "outputs": [
    {
     "data": {
      "text/plain": [
       "[<matplotlib.lines.Line2D at 0x7f22a8721400>]"
      ]
     },
     "execution_count": 4,
     "metadata": {},
     "output_type": "execute_result"
    },
    {
     "data": {
      "image/png": "[encoded data removed]",
      "text/plain": [
       "<Figure size 432x288 with 1 Axes>"
      ]
     },
     "metadata": {
      "needs_background": "light"
     },
     "output_type": "display_data"
    }
   ],
   "source": [
    "import matplotlib.pyplot as plt\n",
    "plt.plot(losses)"
   ]
  },
  {
   "cell_type": "code",
   "execution_count": 10,
   "metadata": {},
   "outputs": [],
   "source": [
    "p=10\n",
    "Xte=torch.rand(2000,p)*2-1\n",
    "yte=Xte[:,0]*Xte[:,1]+2**(Xte[:,2]+Xte[:,4]+Xte[:,5])+2**(Xte[:,2]+Xte[:,3]+Xte[:,4]+Xte[:,6])+torch.sin(Xte[:,6]*torch.sin(Xte[:,7]+Xte[:,8]))+torch.arccos(0.9*Xte[:,9])\n",
    "yte=yte+torch.randn(2000)"
   ]
  },
  {
   "cell_type": "code",
   "execution_count": 11,
   "metadata": {},
   "outputs": [],
   "source": [
    "mean,cov = gpr(Xte,full_cov=True)"
   ]
  },
  {
   "cell_type": "code",
   "execution_count": 29,
   "metadata": {},
   "outputs": [
    {
     "data": {
      "text/plain": [
       "tensor(2.3817, grad_fn=<MseLossBackward>)"
      ]
     },
     "execution_count": 29,
     "metadata": {},
     "output_type": "execute_result"
    }
   ],
   "source": [
    "mseloss=torch.nn.MSELoss()\n",
    "mseloss(mean,yte)"
   ]
  }
 ],
 "metadata": {
  "kernelspec": {
   "display_name": "ml",
   "language": "python",
   "name": "ml"
  },
  "language_info": {
   "codemirror_mode": {
    "name": "ipython",
    "version": 3
   },
   "file_extension": ".py",
   "mimetype": "text/x-python",
   "name": "python",
   "nbconvert_exporter": "python",
   "pygments_lexer": "ipython3",
   "version": "3.8.5"
  }
 },
 "nbformat": 4,
 "nbformat_minor": 4
}
